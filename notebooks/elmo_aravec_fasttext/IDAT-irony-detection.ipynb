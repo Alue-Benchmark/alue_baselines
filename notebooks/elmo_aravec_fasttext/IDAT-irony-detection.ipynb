{
 "cells": [
  {
   "cell_type": "markdown",
   "metadata": {},
   "source": [
    "# ELMO/ARAVEC/FASTTEXT Baseline for IDAT"
   ]
  },
  {
   "cell_type": "markdown",
   "metadata": {},
   "source": [
    "In this notebook, we will walk you through the process of reproducing the ELMO/ARAVEC/FASTTEXT baseline for the IDAT Irony detection task."
   ]
  },
  {
   "cell_type": "markdown",
   "metadata": {},
   "source": [
    "## Loading Required Modules"
   ]
  },
  {
   "cell_type": "markdown",
   "metadata": {},
   "source": [
    "We start by loading the needed python libraries."
   ]
  },
  {
   "cell_type": "code",
   "execution_count": 1,
   "metadata": {},
   "outputs": [],
   "source": [
    "import os\n",
    "import tensorflow as tf\n",
    "from tensorflow import keras\n",
    "import pandas as pd\n",
    "from sklearn.metrics import f1_score\n",
    "from embed_classer import embed"
   ]
  },
  {
   "cell_type": "markdown",
   "metadata": {},
   "source": [
    "## Loading Data"
   ]
  },
  {
   "cell_type": "markdown",
   "metadata": {},
   "source": [
    "Using pandas, we can load and inspect the training and testing datasets as follows:"
   ]
  },
  {
   "cell_type": "code",
   "execution_count": 2,
   "metadata": {},
   "outputs": [],
   "source": [
    "df_train = pd.read_csv(\"../../data/idat/IDAT_training_text.csv\")\n",
    "df_test = pd.read_csv(\"../../data/idat/IDAT_test_text.csv\")"
   ]
  },
  {
   "cell_type": "markdown",
   "metadata": {},
   "source": [
    "Below we list the 5 first entries in the training data."
   ]
  },
  {
   "cell_type": "code",
   "execution_count": 3,
   "metadata": {},
   "outputs": [
    {
     "data": {
      "text/html": [
       "<div>\n",
       "<style scoped>\n",
       "    .dataframe tbody tr th:only-of-type {\n",
       "        vertical-align: middle;\n",
       "    }\n",
       "\n",
       "    .dataframe tbody tr th {\n",
       "        vertical-align: top;\n",
       "    }\n",
       "\n",
       "    .dataframe thead th {\n",
       "        text-align: right;\n",
       "    }\n",
       "</style>\n",
       "<table border=\"1\" class=\"dataframe\">\n",
       "  <thead>\n",
       "    <tr style=\"text-align: right;\">\n",
       "      <th></th>\n",
       "      <th>id</th>\n",
       "      <th>text</th>\n",
       "      <th>label</th>\n",
       "      <th>type_</th>\n",
       "      <th>tweet_id</th>\n",
       "    </tr>\n",
       "  </thead>\n",
       "  <tbody>\n",
       "    <tr>\n",
       "      <th>0</th>\n",
       "      <td>0</td>\n",
       "      <td>ايمان عز الدين:الجراد طلع علي المقطم وبعدين بي...</td>\n",
       "      <td>1</td>\n",
       "      <td>training</td>\n",
       "      <td>'308488170838831104'</td>\n",
       "    </tr>\n",
       "    <tr>\n",
       "      <th>1</th>\n",
       "      <td>1</td>\n",
       "      <td>@AymanNour الى المدعو أيمن نور الحرامى من معك ...</td>\n",
       "      <td>0</td>\n",
       "      <td>training</td>\n",
       "      <td>'955724773216129024'</td>\n",
       "    </tr>\n",
       "    <tr>\n",
       "      <th>2</th>\n",
       "      <td>2</td>\n",
       "      <td>#بوتين ٦٥ سنه و بيغطس في بحيره متجمده و انا خا...</td>\n",
       "      <td>0</td>\n",
       "      <td>training</td>\n",
       "      <td>'954792171521048576'</td>\n",
       "    </tr>\n",
       "    <tr>\n",
       "      <th>3</th>\n",
       "      <td>3</td>\n",
       "      <td>#قال أيه أنهاردة 20 مليون واحد في الشوارع عشان...</td>\n",
       "      <td>1</td>\n",
       "      <td>training</td>\n",
       "      <td>'363321598431862784'</td>\n",
       "    </tr>\n",
       "    <tr>\n",
       "      <th>4</th>\n",
       "      <td>4</td>\n",
       "      <td>@EmmanuelMacron وفي كل مره يرفض إيمانويل دعوة ...</td>\n",
       "      <td>0</td>\n",
       "      <td>training</td>\n",
       "      <td>'939204686632103936'</td>\n",
       "    </tr>\n",
       "  </tbody>\n",
       "</table>\n",
       "</div>"
      ],
      "text/plain": [
       "   id                                               text  label     type_  \\\n",
       "0   0  ايمان عز الدين:الجراد طلع علي المقطم وبعدين بي...      1  training   \n",
       "1   1  @AymanNour الى المدعو أيمن نور الحرامى من معك ...      0  training   \n",
       "2   2  #بوتين ٦٥ سنه و بيغطس في بحيره متجمده و انا خا...      0  training   \n",
       "3   3  #قال أيه أنهاردة 20 مليون واحد في الشوارع عشان...      1  training   \n",
       "4   4  @EmmanuelMacron وفي كل مره يرفض إيمانويل دعوة ...      0  training   \n",
       "\n",
       "               tweet_id  \n",
       "0  '308488170838831104'  \n",
       "1  '955724773216129024'  \n",
       "2  '954792171521048576'  \n",
       "3  '363321598431862784'  \n",
       "4  '939204686632103936'  "
      ]
     },
     "execution_count": 3,
     "metadata": {},
     "output_type": "execute_result"
    }
   ],
   "source": [
    "df_train.head()"
   ]
  },
  {
   "cell_type": "markdown",
   "metadata": {},
   "source": [
    "Below we list the 5 first entries in the testing data."
   ]
  },
  {
   "cell_type": "code",
   "execution_count": 4,
   "metadata": {},
   "outputs": [
    {
     "data": {
      "text/html": [
       "<div>\n",
       "<style scoped>\n",
       "    .dataframe tbody tr th:only-of-type {\n",
       "        vertical-align: middle;\n",
       "    }\n",
       "\n",
       "    .dataframe tbody tr th {\n",
       "        vertical-align: top;\n",
       "    }\n",
       "\n",
       "    .dataframe thead th {\n",
       "        text-align: right;\n",
       "    }\n",
       "</style>\n",
       "<table border=\"1\" class=\"dataframe\">\n",
       "  <thead>\n",
       "    <tr style=\"text-align: right;\">\n",
       "      <th></th>\n",
       "      <th>id</th>\n",
       "      <th>text</th>\n",
       "      <th>label</th>\n",
       "      <th>type_</th>\n",
       "      <th>tweet_id</th>\n",
       "    </tr>\n",
       "  </thead>\n",
       "  <tbody>\n",
       "    <tr>\n",
       "      <th>0</th>\n",
       "      <td>0</td>\n",
       "      <td>#يناير_حلم_ومكملينه فاستبشروا خيرا واستكملوا ث...</td>\n",
       "      <td>0</td>\n",
       "      <td>test</td>\n",
       "      <td>'955879051872350209'</td>\n",
       "    </tr>\n",
       "    <tr>\n",
       "      <th>1</th>\n",
       "      <td>1</td>\n",
       "      <td>#الشيخه_موزا_مصدر_فخرنا موزه ويسبّــق اسمــها ...</td>\n",
       "      <td>0</td>\n",
       "      <td>test</td>\n",
       "      <td>'953563403368452096'</td>\n",
       "    </tr>\n",
       "    <tr>\n",
       "      <th>2</th>\n",
       "      <td>2</td>\n",
       "      <td>معلش سؤال بس. هو حد علق من جبهة الانقاذ عن احد...</td>\n",
       "      <td>1</td>\n",
       "      <td>test</td>\n",
       "      <td>'322085724235132928'</td>\n",
       "    </tr>\n",
       "    <tr>\n",
       "      <th>3</th>\n",
       "      <td>3</td>\n",
       "      <td>ههههههههههههههههههههه. اه يادماغي هو الاخوان ا...</td>\n",
       "      <td>1</td>\n",
       "      <td>test</td>\n",
       "      <td>'367053834235183104'</td>\n",
       "    </tr>\n",
       "    <tr>\n",
       "      <th>4</th>\n",
       "      <td>4</td>\n",
       "      <td>ايمن نور فى حوار #مرسي اللى كان مذاع والعالم ك...</td>\n",
       "      <td>1</td>\n",
       "      <td>test</td>\n",
       "      <td>'341890733990633473'</td>\n",
       "    </tr>\n",
       "  </tbody>\n",
       "</table>\n",
       "</div>"
      ],
      "text/plain": [
       "   id                                               text  label type_  \\\n",
       "0   0  #يناير_حلم_ومكملينه فاستبشروا خيرا واستكملوا ث...      0  test   \n",
       "1   1  #الشيخه_موزا_مصدر_فخرنا موزه ويسبّــق اسمــها ...      0  test   \n",
       "2   2  معلش سؤال بس. هو حد علق من جبهة الانقاذ عن احد...      1  test   \n",
       "3   3  ههههههههههههههههههههه. اه يادماغي هو الاخوان ا...      1  test   \n",
       "4   4  ايمن نور فى حوار #مرسي اللى كان مذاع والعالم ك...      1  test   \n",
       "\n",
       "               tweet_id  \n",
       "0  '955879051872350209'  \n",
       "1  '953563403368452096'  \n",
       "2  '322085724235132928'  \n",
       "3  '367053834235183104'  \n",
       "4  '341890733990633473'  "
      ]
     },
     "execution_count": 4,
     "metadata": {},
     "output_type": "execute_result"
    }
   ],
   "source": [
    "df_test.head()"
   ]
  },
  {
   "cell_type": "markdown",
   "metadata": {},
   "source": [
    "## Model Preparation"
   ]
  },
  {
   "cell_type": "markdown",
   "metadata": {},
   "source": [
    "We start by setting the randomisation seed and the maximum sentence length:"
   ]
  },
  {
   "cell_type": "code",
   "execution_count": 5,
   "metadata": {},
   "outputs": [],
   "source": [
    "tf.random.set_seed(123)\n",
    "max_sentence_len = 200"
   ]
  },
  {
   "cell_type": "code",
   "execution_count": 6,
   "metadata": {},
   "outputs": [],
   "source": [
    "model_type = \"fasttext\"\n",
    "\n",
    "if model_type == \"aravec\":\n",
    "    model_path = '../pretrained/full_uni_sg_300_twitter.mdl'\n",
    "    size = 300\n",
    "elif model_type == \"fasttext\":\n",
    "    model_path = '../pretrained/cc.ar.300.bin'\n",
    "    size = 300\n",
    "elif model_type == \"elmo\":\n",
    "    model_path= '../pretrained'\n",
    "    size = 1024"
   ]
  },
  {
   "cell_type": "markdown",
   "metadata": {},
   "source": [
    "Next we load our model of choice:"
   ]
  },
  {
   "cell_type": "code",
   "execution_count": 7,
   "metadata": {},
   "outputs": [
    {
     "name": "stderr",
     "output_type": "stream",
     "text": [
      "Warning : `load_model` does not return WordVectorModel or SupervisedModel any more, but a `FastText` object which is very similar.\n"
     ]
    }
   ],
   "source": [
    "embedder = embed(model_type, model_path)"
   ]
  },
  {
   "cell_type": "markdown",
   "metadata": {},
   "source": [
    "Then we define the input and output to the model:"
   ]
  },
  {
   "cell_type": "code",
   "execution_count": 8,
   "metadata": {},
   "outputs": [],
   "source": [
    "sentence = keras.Input(shape=(max_sentence_len, size), name='sentence')\n",
    "label = keras.Input(shape=(1,), name='label')"
   ]
  },
  {
   "cell_type": "markdown",
   "metadata": {},
   "source": [
    "This is followed by defining the structure of the network:"
   ]
  },
  {
   "cell_type": "code",
   "execution_count": 9,
   "metadata": {},
   "outputs": [],
   "source": [
    "forward_layer = tf.keras.layers.LSTM(size)\n",
    "backward_layer = tf.keras.layers.LSTM(size, go_backwards=True)\n",
    "masking_layer = tf.keras.layers.Masking()\n",
    "rnn = tf.keras.layers.Bidirectional(forward_layer, backward_layer=backward_layer)\n",
    "logits = rnn(sentence)\n",
    "logits = keras.layers.Dense(1, activation=tf.nn.sigmoid)(logits)"
   ]
  },
  {
   "cell_type": "markdown",
   "metadata": {},
   "source": [
    "Then we construct and compile the model:"
   ]
  },
  {
   "cell_type": "code",
   "execution_count": 10,
   "metadata": {},
   "outputs": [],
   "source": [
    "model = keras.Model(inputs=sentence, outputs=logits)\n",
    "model.compile(optimizer='adam', loss='binary_crossentropy', metrics=['accuracy'])"
   ]
  },
  {
   "cell_type": "markdown",
   "metadata": {},
   "source": [
    "## Model Training"
   ]
  },
  {
   "cell_type": "markdown",
   "metadata": {},
   "source": [
    "First we perpare the inputs and outputs to be fed to the model during training:"
   ]
  },
  {
   "cell_type": "code",
   "execution_count": 11,
   "metadata": {},
   "outputs": [],
   "source": [
    "X_train = embedder.embed_batch(df_train[\"text\"].tolist(), max_sentence_len)\n",
    "Y_train = df_train[\"label\"]"
   ]
  },
  {
   "cell_type": "markdown",
   "metadata": {},
   "source": [
    "Next we fit the data:"
   ]
  },
  {
   "cell_type": "code",
   "execution_count": 12,
   "metadata": {},
   "outputs": [
    {
     "name": "stdout",
     "output_type": "stream",
     "text": [
      "Epoch 1/5\n",
      "126/126 [==============================] - 22s 152ms/step - loss: 0.6383 - accuracy: 0.6719\n",
      "Epoch 2/5\n",
      "126/126 [==============================] - 19s 153ms/step - loss: 0.5171 - accuracy: 0.7562\n",
      "Epoch 3/5\n",
      "126/126 [==============================] - 19s 153ms/step - loss: 0.4821 - accuracy: 0.7812\n",
      "Epoch 4/5\n",
      "126/126 [==============================] - 19s 152ms/step - loss: 0.4441 - accuracy: 0.8017\n",
      "Epoch 5/5\n",
      "126/126 [==============================] - 19s 152ms/step - loss: 0.4091 - accuracy: 0.8222\n"
     ]
    },
    {
     "data": {
      "text/plain": [
       "<tensorflow.python.keras.callbacks.History at 0x7fc3e39ff400>"
      ]
     },
     "execution_count": 12,
     "metadata": {},
     "output_type": "execute_result"
    }
   ],
   "source": [
    "model.fit(X_train, Y_train, epochs=5, batch_size=32)"
   ]
  },
  {
   "cell_type": "markdown",
   "metadata": {},
   "source": [
    "## Submission Preperation"
   ]
  },
  {
   "cell_type": "markdown",
   "metadata": {},
   "source": [
    "We perpare the features for each testset instance as follows:"
   ]
  },
  {
   "cell_type": "code",
   "execution_count": 13,
   "metadata": {},
   "outputs": [],
   "source": [
    "X_test = embedder.embed_batch(df_test[\"text\"].tolist(), max_sentence_len)\n",
    "Y_test = df_test[\"label\"]"
   ]
  },
  {
   "cell_type": "markdown",
   "metadata": {},
   "source": [
    "We predict and evaluate the prediction as follows:"
   ]
  },
  {
   "cell_type": "code",
   "execution_count": 14,
   "metadata": {},
   "outputs": [
    {
     "data": {
      "text/plain": [
       "0.7959902659371421"
      ]
     },
     "execution_count": 14,
     "metadata": {},
     "output_type": "execute_result"
    }
   ],
   "source": [
    "predictions = (model.predict(X_test)>0.5).astype(int)\n",
    "f1_score(Y_test, predictions, average=\"macro\")"
   ]
  },
  {
   "cell_type": "markdown",
   "metadata": {},
   "source": [
    "We perpare the predictions as a pandas dataframe."
   ]
  },
  {
   "cell_type": "code",
   "execution_count": 15,
   "metadata": {},
   "outputs": [],
   "source": [
    "df_preds = pd.DataFrame(data=predictions, columns=[\"prediction\"], index=df_test[\"id\"])\n",
    "df_preds.reset_index(inplace=True)"
   ]
  },
  {
   "cell_type": "code",
   "execution_count": 16,
   "metadata": {},
   "outputs": [],
   "source": [
    "if not os.path.exists(\"./predictions/{}\".format(model_type)):\n",
    "    os.makedirs(\"./predictions/{}\".format(model_type), exist_ok=True)\n",
    "df_preds.to_csv(\"./predictions/{}/irony.tsv\".format(model_type), index=False, sep=\"\\t\")"
   ]
  }
 ],
 "metadata": {
  "kernelspec": {
   "display_name": "Python 3",
   "language": "python",
   "name": "python3"
  },
  "language_info": {
   "codemirror_mode": {
    "name": "ipython",
    "version": 3
   },
   "file_extension": ".py",
   "mimetype": "text/x-python",
   "name": "python",
   "nbconvert_exporter": "python",
   "pygments_lexer": "ipython3",
   "version": "3.8.5"
  }
 },
 "nbformat": 4,
 "nbformat_minor": 2
}
